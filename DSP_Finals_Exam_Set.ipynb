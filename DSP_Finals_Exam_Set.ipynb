{
  "nbformat": 4,
  "nbformat_minor": 0,
  "metadata": {
    "colab": {
      "provenance": [],
      "authorship_tag": "ABX9TyPT66jcNTb7IWM5Ve1ezH2t",
      "include_colab_link": true
    },
    "kernelspec": {
      "name": "python3",
      "display_name": "Python 3"
    },
    "language_info": {
      "name": "python"
    }
  },
  "cells": [
    {
      "cell_type": "markdown",
      "metadata": {
        "id": "view-in-github",
        "colab_type": "text"
      },
      "source": [
        "<a href=\"https://colab.research.google.com/github/Lance0313/Bee-Bugoy-s/blob/main/DSP_Finals_Exam_Set.ipynb\" target=\"_parent\"><img src=\"https://colab.research.google.com/assets/colab-badge.svg\" alt=\"Open In Colab\"/></a>"
      ]
    },
    {
      "cell_type": "code",
      "source": [
        "import numpy as np\n",
        "import sympy as sp\n",
        "import matplotlib.pyplot as plt"
      ],
      "metadata": {
        "id": "gDE4Q-k75aqq"
      },
      "execution_count": 44,
      "outputs": []
    },
    {
      "cell_type": "markdown",
      "source": [
        "##2.1"
      ],
      "metadata": {
        "id": "8wzJZ0OwfFTY"
      }
    },
    {
      "cell_type": "code",
      "execution_count": 1,
      "metadata": {
        "colab": {
          "base_uri": "https://localhost:8080/"
        },
        "id": "vKBBGXvqe-Ko",
        "outputId": "fa7c4c33-ac60-419a-f2c8-7f5da51b2be5"
      },
      "outputs": [
        {
          "output_type": "stream",
          "name": "stdout",
          "text": [
            "For z = 1j, z* = -1j, z^(-1) = -1j, Condition satisfied: True\n",
            "For z = -2j, z* = 2j, z^(-1) = (-0+0.5j), Condition satisfied: False\n",
            "For z = 3j, z* = -3j, z^(-1) = -0.3333333333333333j, Condition satisfied: False\n"
          ]
        }
      ],
      "source": [
        "def check_condition(z):\n",
        "    z_star = np.conjugate(z)\n",
        "    z_inverse = 1 / z\n",
        "\n",
        "    return np.allclose(z_star, z_inverse)\n",
        "\n",
        "z_values = np.array([0 + 1j, 0 - 2j, 0 + 3j])\n",
        "\n",
        "for z in z_values:\n",
        "    result = check_condition(z)\n",
        "    print(f\"For z = {z}, z* = {np.conjugate(z)}, z^(-1) = {1/z}, Condition satisfied: {result}\")\n"
      ]
    },
    {
      "cell_type": "markdown",
      "source": [
        "##2.2"
      ],
      "metadata": {
        "id": "KG0OJL7pyRB3"
      }
    },
    {
      "cell_type": "code",
      "source": [
        "n, theta = sp.symbols('n theta', real=True)\n",
        "j = sp.I\n",
        "\n",
        "\n",
        "given = (sp.exp(j * sp.pi / 2) + sp.exp(-j * sp.pi / 2)) / 2 - (sp.exp(j * theta * n) - sp.exp(-j * theta * n)) / j\n",
        "\n",
        "ans = sp.simplify(given)\n",
        "\n",
        "ans2 = -2 * sp.sin(theta * n)\n",
        "\n",
        "print(\"Simplified:\")\n",
        "sp.pretty_print(ans)\n",
        "\n",
        "print(\"Final answer:\")\n",
        "sp.pretty_print(ans2)"
      ],
      "metadata": {
        "colab": {
          "base_uri": "https://localhost:8080/"
        },
        "id": "XE3d0VS5ySIU",
        "outputId": "39c383f8-19df-4ecf-ae50-fc439264b3b3"
      },
      "execution_count": 48,
      "outputs": [
        {
          "output_type": "stream",
          "name": "stdout",
          "text": [
            "Simplified:\n",
            "   ⅈ⋅n⋅θ      -ⅈ⋅n⋅θ\n",
            "ⅈ⋅ℯ      - ⅈ⋅ℯ      \n",
            "Final answer:\n",
            "-2⋅sin(n⋅θ)\n"
          ]
        }
      ]
    },
    {
      "cell_type": "markdown",
      "source": [
        "##2.3"
      ],
      "metadata": {
        "id": "-ji43QsVyScU"
      }
    },
    {
      "cell_type": "code",
      "source": [
        "import numpy as np\n",
        "def p(M,N):\n",
        "    per = N / np.gcd(M, N)\n",
        "    return per\n",
        "\n",
        "a = p(1, 1)\n",
        "b = p(2, 3)\n",
        "c = p(56, 9)\n",
        "\n",
        "print(\"a.)\", a)\n",
        "print(\"b.)\", b)\n",
        "print(\"c.)\", c)\n"
      ],
      "metadata": {
        "colab": {
          "base_uri": "https://localhost:8080/"
        },
        "id": "pFU9KZY1yTSs",
        "outputId": "176b9f7c-f874-4f1e-dbaa-a66706f8bf14"
      },
      "execution_count": 37,
      "outputs": [
        {
          "output_type": "stream",
          "name": "stdout",
          "text": [
            "a.) 1.0\n",
            "b.) 3.0\n",
            "c.) 9.0\n"
          ]
        }
      ]
    },
    {
      "cell_type": "markdown",
      "source": [
        "##2.4"
      ],
      "metadata": {
        "id": "elr-ayux5IAq"
      }
    },
    {
      "cell_type": "code",
      "source": [
        "def x_n(n):\n",
        "    return np.heaviside(n, 1) + 2 * np.heaviside(n - 1, 1) + 3 * np.heaviside(n - 2, 1)\n",
        "\n",
        "\n",
        "def y_n(n):\n",
        "    return (x_n(n) + np.roll(x_n(n), 1)) / 2\n",
        "\n",
        "n_values = np.arange(-5, 6)\n",
        "\n",
        "plt.stem(n_values, x_n(n_values), label='x[n]', basefmt=\" \", use_line_collection=True)\n",
        "\n",
        "plt.stem(n_values, y_n(n_values), label='y[n]', linefmt='r', markerfmt='ro', basefmt=\" \", use_line_collection=True)\n",
        "\n",
        "plt.title('Input Signal x[n] and Moving Average Signal y[n]')\n",
        "\n",
        "plt.show()"
      ],
      "metadata": {
        "colab": {
          "base_uri": "https://localhost:8080/",
          "height": 541
        },
        "id": "COEeSzYv5I9Z",
        "outputId": "31a5cf57-66b0-4f62-932b-dab0eee5db91"
      },
      "execution_count": 51,
      "outputs": [
        {
          "output_type": "stream",
          "name": "stderr",
          "text": [
            "<ipython-input-51-f827de1b353d>:10: MatplotlibDeprecationWarning: The 'use_line_collection' parameter of stem() was deprecated in Matplotlib 3.6 and will be removed two minor releases later. If any parameter follows 'use_line_collection', they should be passed as keyword, not positionally.\n",
            "  plt.stem(n_values, x_n(n_values), label='x[n]', basefmt=\" \", use_line_collection=True)\n",
            "<ipython-input-51-f827de1b353d>:12: MatplotlibDeprecationWarning: The 'use_line_collection' parameter of stem() was deprecated in Matplotlib 3.6 and will be removed two minor releases later. If any parameter follows 'use_line_collection', they should be passed as keyword, not positionally.\n",
            "  plt.stem(n_values, y_n(n_values), label='y[n]', linefmt='r', markerfmt='ro', basefmt=\" \", use_line_collection=True)\n"
          ]
        },
        {
          "output_type": "display_data",
          "data": {
            "text/plain": [
              "<Figure size 640x480 with 1 Axes>"
            ],
            "image/png": "[encoded data removed]"
          },
          "metadata": {}
        }
      ]
    }
  ]
}